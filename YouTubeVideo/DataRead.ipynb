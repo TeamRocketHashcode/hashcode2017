{
 "cells": [
  {
   "cell_type": "code",
   "execution_count": 106,
   "metadata": {
    "collapsed": false
   },
   "outputs": [],
   "source": [
    "import numpy as np\n",
    "\n",
    "files = {0:'me_at_the_zoo.in', 1:'videos_worth_spreading.in', 2:'trending_today.in', 3:'kittens.in'} "
   ]
  },
  {
   "cell_type": "code",
   "execution_count": 112,
   "metadata": {
    "collapsed": false
   },
   "outputs": [
    {
     "name": "stdout",
     "output_type": "stream",
     "text": [
      "File description=\n",
      " \t\t {'n_video': 100, 'size_cache': 100, 'n_cache': 10, 'requ_des': 100, 'n_endpoint': 10}\n",
      "Video sizes=\n",
      " \t\tshape= (100,)  nnz= 100\n",
      "Endpoint to chache=\n",
      " \t\tshape= (10, 10)  nnz= 32\n",
      "Endpoint to video=\n",
      " \t\tshape= (10, 100)  max= 3296.0\n"
     ]
    }
   ],
   "source": [
    "# Setting for loaded files\n",
    "print_debug = True\n",
    "id_file_to_load = 0 # form 0 to 3\n",
    "\n",
    "# Load file\n",
    "file = open(files[id_file_to_load], 'r') \n",
    "\n",
    "# Header / Video / Endpoints / request descr. / Cache\n",
    "header = file.readline().replace('\\n','')\n",
    "header = np.fromstring(header, dtype=int, sep=' ')\n",
    "header_dict = {   'n_video':header[0], 'n_endpoint':header[1], \n",
    "                  'requ_des':header[2], 'n_cache':header[3],\n",
    "                  'size_cache':header[4]}\n",
    "\n",
    "# Video size in MB\n",
    "video_size = file.readline().replace('\\n','')\n",
    "video_size = np.fromstring(video_size, dtype=int, sep=' ')\n",
    "\n",
    "# Endpoints locations and connections\n",
    "endpoint_cache = np.zeros((header_dict['n_endpoint'], header_dict['n_cache'])) # Latency endpoint to cache\n",
    "endpoint_datacenter = np.zeros(header_dict['n_endpoint']) # Latency endpoint to datacenter\n",
    "endpoint_video = np.zeros((header_dict['n_endpoint'], header_dict['n_video'])) # Endpoints requests\n",
    "\n",
    "# Reding endpoint to cache latency and endpoint to data_center latency\n",
    "for id_endpoint in range(header_dict['n_endpoint']):\n",
    "    endpoint = file.readline().replace('\\n','').split(' ')\n",
    "    endpoint_datacenter[id_endpoint] = int(endpoint[0])\n",
    "    n_latency = int(endpoint[1])\n",
    "    for i in range(n_latency):\n",
    "        lat_cache = file.readline().replace('\\n','').split(' ')\n",
    "        endpoint_cache[id_endpoint, int(lat_cache[0])] = int(lat_cache[1])\n",
    "    \n",
    "for id_requ_des in range(header_dict['requ_des']):\n",
    "    requ_des = file.readline().replace('\\n','').split(' ')\n",
    "    endpoint_video[int(requ_des[1]), int(requ_des[0])] += int(requ_des[2])\n",
    "\n",
    "if print_debug:\n",
    "    print('File description=\\n', '\\t\\t', header_dict)\n",
    "    print('Video sizes=\\n', '\\t\\tshape=', video_size.shape, ' nnz=', len(np.nonzero(video_size)[0]))\n",
    "    print('Endpoint to chache=\\n', '\\t\\tshape=', endpoint_cache.shape, ' nnz=', len(np.nonzero(endpoint_cache)[0]))\n",
    "    print('Endpoint to video=\\n', '\\t\\tshape=', endpoint_video.shape, ' max=', np.max(endpoint_video))\n"
   ]
  }
 ],
 "metadata": {
  "anaconda-cloud": {},
  "kernelspec": {
   "display_name": "Python [Root]",
   "language": "python",
   "name": "Python [Root]"
  },
  "language_info": {
   "codemirror_mode": {
    "name": "ipython",
    "version": 3
   },
   "file_extension": ".py",
   "mimetype": "text/x-python",
   "name": "python",
   "nbconvert_exporter": "python",
   "pygments_lexer": "ipython3",
   "version": "3.5.2"
  }
 },
 "nbformat": 4,
 "nbformat_minor": 0
}
