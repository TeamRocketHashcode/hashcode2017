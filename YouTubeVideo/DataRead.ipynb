{
 "cells": [
  {
   "cell_type": "code",
   "execution_count": 1,
   "metadata": {
    "collapsed": false
   },
   "outputs": [],
   "source": [
    "import numpy as np\n",
    "import os\n",
    "\n",
    "files_ext = {0:'.in', 1:'.out'}\n",
    "files = {0:'me_at_the_zoo', 1:'videos_worth_spreading', 2:'trending_today', 3:'kittens'} "
   ]
  },
  {
   "cell_type": "code",
   "execution_count": 11,
   "metadata": {
    "collapsed": false
   },
   "outputs": [
    {
     "name": "stdout",
     "output_type": "stream",
     "text": [
      "\n",
      "***************** Loading *****************\n",
      "File description \t {'requ_des': 100, 'n_video': 100, 'n_cache': 10, 'n_endpoint': 10, 'size_cache': 100}\n",
      "Videos sizes \t\tshape= (100,) , nnz= 100\n",
      "Endpoint to chache \tshape= (10, 10) , nnz= 32\n",
      "Endpoint to video \tshape= (10, 100) , max= 3296.0\n",
      "\n",
      "***************** Saving *****************\n",
      "... saved as \"me_at_the_zoo.out\"\n"
     ]
    }
   ],
   "source": [
    "def load_data(id_file_to_load = 0, print_debug = True):\n",
    "    print('\\n***************** Loading *****************')\n",
    "    # Load file\n",
    "    file = open(files[id_file_to_load] + files_ext[0], 'r') \n",
    "\n",
    "    # Header / Video / Endpoints / request descr. / Cache\n",
    "    header = file.readline().replace('\\n','')\n",
    "    header = np.fromstring(header, dtype=int, sep=' ')\n",
    "    header_dict = {   'n_video':header[0], 'n_endpoint':header[1], \n",
    "                      'requ_des':header[2], 'n_cache':header[3],\n",
    "                      'size_cache':header[4]}\n",
    "\n",
    "    # Video size in MB\n",
    "    video_size = file.readline().replace('\\n','')\n",
    "    video_size = np.fromstring(video_size, dtype=int, sep=' ')\n",
    "\n",
    "    # Endpoints locations and connections\n",
    "    endpoint_cache = np.zeros((header_dict['n_endpoint'], header_dict['n_cache'])) # Latency endpoint to cache\n",
    "    endpoint_datacenter = np.zeros(header_dict['n_endpoint']) # Latency endpoint to datacenter\n",
    "    endpoint_video = np.zeros((header_dict['n_endpoint'], header_dict['n_video'])) # Endpoints requests\n",
    "\n",
    "    # Reding endpoint to cache latency and endpoint to data_center latency\n",
    "    for id_endpoint in range(header_dict['n_endpoint']):\n",
    "        endpoint = file.readline().replace('\\n','').split(' ')\n",
    "        endpoint_datacenter[id_endpoint] = int(endpoint[0])\n",
    "        n_latency = int(endpoint[1])\n",
    "        for i in range(n_latency):\n",
    "            lat_cache = file.readline().replace('\\n','').split(' ')\n",
    "            endpoint_cache[id_endpoint, int(lat_cache[0])] = int(lat_cache[1])\n",
    "\n",
    "    for id_requ_des in range(header_dict['requ_des']):\n",
    "        requ_des = file.readline().replace('\\n','').split(' ')\n",
    "        endpoint_video[int(requ_des[1]), int(requ_des[0])] += int(requ_des[2])\n",
    "    file.close()\n",
    "    \n",
    "    if print_debug:\n",
    "        print('File description', '\\t', header_dict)\n",
    "        print('Videos sizes', '\\t\\tshape=', video_size.shape, ', nnz=', len(np.nonzero(video_size)[0]))\n",
    "        print('Endpoint to chache', '\\tshape=', endpoint_cache.shape, ', nnz=', len(np.nonzero(endpoint_cache)[0]))\n",
    "        print('Endpoint to video', '\\tshape=', endpoint_video.shape, ', max=', np.max(endpoint_video))\n",
    "    \n",
    "    return endpoint_cache, endpoint_datacenter, endpoint_video, video_size\n",
    "\n",
    "\n",
    "def save_file(id_file_to_save = 0, caches_video_lists=None):\n",
    "    print('\\n***************** Saving *****************')\n",
    "    filename = files[id_file_to_save] + files_ext[1]\n",
    "    # Delete if existing\n",
    "    if os.path.isfile(filename):\n",
    "        os.remove(filename)\n",
    "    file = open(filename, 'a') \n",
    "    \n",
    "    # Write number caches\n",
    "    file.write(str(len(caches_video_lists)) + '\\n')\n",
    "\n",
    "    # Write each cache\n",
    "    for i, caches in enumerate(caches_video_lists):\n",
    "        # Print chache id\n",
    "        file.write(str(i) + ' ')\n",
    "        for j, video in enumerate(caches):\n",
    "            # Print video ids\n",
    "            file.write(str(video))\n",
    "            # Print space only if not last item\n",
    "            if j != len(caches)-1:\n",
    "                file.write(' ')\n",
    "        file.write('\\n')\n",
    "    file.close()\n",
    "    # Out save file\n",
    "    print('... saved as \\\"' + filename + '\\\"')\n",
    "\n",
    "# Load data\n",
    "endpoint_cache, endpoint_datacenter, endpoint_video, video_size = load_data(id_file_to_load=0)\n",
    "\n",
    "test_out = [[2],[3, 1],[0, 1]]\n",
    "# Save data\n",
    "save_file(id_file_to_save=0, caches_video_lists=test_out)"
   ]
  }
 ],
 "metadata": {
  "anaconda-cloud": {},
  "kernelspec": {
   "display_name": "Python [Root]",
   "language": "python",
   "name": "Python [Root]"
  },
  "language_info": {
   "codemirror_mode": {
    "name": "ipython",
    "version": 3
   },
   "file_extension": ".py",
   "mimetype": "text/x-python",
   "name": "python",
   "nbconvert_exporter": "python",
   "pygments_lexer": "ipython3",
   "version": "3.5.2"
  }
 },
 "nbformat": 4,
 "nbformat_minor": 0
}
