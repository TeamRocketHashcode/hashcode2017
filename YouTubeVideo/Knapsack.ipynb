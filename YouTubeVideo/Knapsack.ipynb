{
 "cells": [
  {
   "cell_type": "code",
   "execution_count": 8,
   "metadata": {
    "collapsed": false
   },
   "outputs": [],
   "source": [
    "import knapsack as ks\n",
    "import numpy as np"
   ]
  },
  {
   "cell_type": "code",
   "execution_count": 9,
   "metadata": {
    "collapsed": false
   },
   "outputs": [
    {
     "name": "stdout",
     "output_type": "stream",
     "text": [
      "[[ 7  3]\n",
      " [ 2  3]\n",
      " [ 3 10]\n",
      " [ 7  4]\n",
      " [ 5  6]\n",
      " [ 4  4]\n",
      " [ 7  7]\n",
      " [10  3]\n",
      " [ 3  4]\n",
      " [ 5  4]]\n",
      "(11, 31)\n"
     ]
    }
   ],
   "source": [
    "c = 30\n",
    "n = 10\n",
    "items = ((np.random.rand(n,2) + 0.1) * 10).astype(int)\n",
    "print(items)\n",
    "m = np.zeros((n+1, c+1))\n",
    "print(m.shape)\n",
    "optimal_set = []"
   ]
  },
  {
   "cell_type": "code",
   "execution_count": 10,
   "metadata": {
    "collapsed": false
   },
   "outputs": [
    {
     "name": "stdout",
     "output_type": "stream",
     "text": [
      "5\n",
      "4\n",
      "34\n",
      "35\n",
      "3\n",
      "4\n",
      "30\n",
      "30\n",
      "10\n",
      "3\n",
      "20\n",
      "30\n",
      "7\n",
      "7\n",
      "23\n",
      "27\n",
      "4\n",
      "4\n",
      "19\n",
      "20\n",
      "5\n",
      "6\n",
      "13\n",
      "14\n",
      "7\n",
      "4\n",
      "16\n",
      "13\n",
      "3\n",
      "10\n",
      "3\n",
      "3\n",
      "2\n",
      "3\n",
      "0\n",
      "0\n",
      "7\n",
      "3\n",
      "0\n",
      "0\n",
      "5\n",
      "4\n",
      "35\n",
      "0\n",
      "solution of weight 29, value 38 found:\n",
      "[5 4], [3 4], [7 7], [4 4], [5 6], [ 3 10], [2 3]\n"
     ]
    }
   ],
   "source": [
    "solution, w, v = ks.solve(items, c)\n",
    "if solution != []:\n",
    "    \n",
    "    print(\"solution of weight %d, value %d found:\" % (w,v))\n",
    "    print(\", \".join(map(lambda t: str(t), solution)))\n",
    "else:\n",
    "    # this should never happen (and hasen't as far as we're concerned)\n",
    "    print('no solution found(!).')"
   ]
  },
  {
   "cell_type": "code",
   "execution_count": null,
   "metadata": {
    "collapsed": true
   },
   "outputs": [],
   "source": []
  },
  {
   "cell_type": "code",
   "execution_count": null,
   "metadata": {
    "collapsed": true
   },
   "outputs": [],
   "source": []
  }
 ],
 "metadata": {
  "kernelspec": {
   "display_name": "Python [Root]",
   "language": "python",
   "name": "Python [Root]"
  },
  "language_info": {
   "codemirror_mode": {
    "name": "ipython",
    "version": 3
   },
   "file_extension": ".py",
   "mimetype": "text/x-python",
   "name": "python",
   "nbconvert_exporter": "python",
   "pygments_lexer": "ipython3",
   "version": "3.5.2"
  }
 },
 "nbformat": 4,
 "nbformat_minor": 0
}
