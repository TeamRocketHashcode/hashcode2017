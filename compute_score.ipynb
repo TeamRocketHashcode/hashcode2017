{
 "cells": [
  {
   "cell_type": "code",
   "execution_count": 1,
   "metadata": {
    "collapsed": true
   },
   "outputs": [],
   "source": [
    "E = 2\n",
    "V = 5\n",
    "C = 3\n",
    "\n",
    "endpoint_datacenter = [1000, 500]\n",
    "endpoint_cache = [[100,300,200],[0,0,0]]\n",
    "endpoint_video = [[0,1000,0,1500,500],[1000,0,0,0,0]]\n",
    "\n",
    "cache = [[-1,2,-1,1,-1],[-1,-1,-1,-1,-1]]"
   ]
  },
  {
   "cell_type": "code",
   "execution_count": 5,
   "metadata": {
    "collapsed": false
   },
   "outputs": [
    {
     "name": "stdout",
     "output_type": "stream",
     "text": [
      "462500.0\n"
     ]
    }
   ],
   "source": [
    "# Compute SCORE\n",
    "t = 0\n",
    "Rtot = 0\n",
    "for e in range(0, E):\n",
    "    for v in range(0, V):\n",
    "        Ld = endpoint_datacenter[e]\n",
    "        #c = cache who contain v\n",
    "        c = cache[e][v]\n",
    "        # if not\n",
    "        if c == -1:\n",
    "            L = Ld\n",
    "        else:\n",
    "            L = endpoint_cache[e][c]\n",
    "\n",
    "        Rn = endpoint_video[e][v]\n",
    "        \n",
    "        Rtot += Rn\n",
    "        t += Rn * (Ld - L)\n",
    "score = t*1000/Rtot\n",
    "print(score)"
   ]
  }
 ],
 "metadata": {
  "anaconda-cloud": {},
  "kernelspec": {
   "display_name": "Python [Root]",
   "language": "python",
   "name": "Python [Root]"
  },
  "language_info": {
   "codemirror_mode": {
    "name": "ipython",
    "version": 3
   },
   "file_extension": ".py",
   "mimetype": "text/x-python",
   "name": "python",
   "nbconvert_exporter": "python",
   "pygments_lexer": "ipython3",
   "version": "3.5.2"
  }
 },
 "nbformat": 4,
 "nbformat_minor": 0
}
