{
 "cells": [
  {
   "cell_type": "code",
   "execution_count": 92,
   "metadata": {
    "collapsed": false
   },
   "outputs": [
    {
     "name": "stdout",
     "output_type": "stream",
     "text": [
      "[1, 0, 2, 4]\n"
     ]
    }
   ],
   "source": [
    "import numpy as np\n",
    "from random import randint\n",
    "\n",
    "def randomshuffle(limit,cache,CacheEndpointM,EndpointVideoM, contained_videos, Video_sizes):\n",
    "    endpoints = []\n",
    "    count = 0\n",
    "    videos = []\n",
    "    for e in CacheEndpointM[cache]:\n",
    "        if e != 0 :\n",
    "            endpoints.append(count)\n",
    "        count+=1\n",
    "    \n",
    "    for endpoint in endpoints:\n",
    "        count2 = 0\n",
    "        for v in EndpointVideoM[endpoint]:\n",
    "            if v != 0:\n",
    "                videos.append(count2)\n",
    "            count2+=1\n",
    "    tries = 0\n",
    "    while tries < 1000:\n",
    "        random_video = videos[randint(0,len(videos)-1)]\n",
    "        if random_video not in contained_videos:\n",
    "            tries2 =0\n",
    "            while tries2 <1000:\n",
    "                remove_index=randint(0,len(contained_videos)-1)\n",
    "                to_remove = contained_videos[remove_index]\n",
    "                if Video_sizes[to_remove] >= Video_sizes[random_video]:\n",
    "                    contained_videos[remove_index] = random_video\n",
    "                    mem =0 \n",
    "                    for v in contained_videos:\n",
    "                        mem += Video_sizes[v]\n",
    "                        diff = limit - mem\n",
    "                    \n",
    "                    for v in videos:\n",
    "                        if Video_sizes[v] <= diff and v not in contained_videos:\n",
    "                            contained_videos.append(v)\n",
    "                            diff = diff - Video_sizes[v]\n",
    "                    return contained_videos\n",
    "                tries2+=1\n",
    "        tries+=1\n",
    "    return contained_videos\n",
    "    "
   ]
  },
  {
   "cell_type": "code",
   "execution_count": 108,
   "metadata": {
    "collapsed": false
   },
   "outputs": [
    {
     "name": "stdout",
     "output_type": "stream",
     "text": [
      "0\n",
      "1\n",
      "2\n",
      "3\n",
      "{0: [1, 2], 2: [3, 7, 9, 50]}\n"
     ]
    }
   ],
   "source": [
    "def duplicates(EndpointVideoC):\n",
    "    doubles ={}\n",
    "    for j in range(0, len(EndpointVideoC[0])):\n",
    "        print(j)\n",
    "        caches = []\n",
    "        for i in range(0, len(EndpointVideoC)):\n",
    "            if(EndpointVideoC[i][j] != -1):\n",
    "                caches.append(EndpointVideoC[i][j])\n",
    "        \n",
    "            if(len(caches) > 1):\n",
    "                doubles[j]= caches\n",
    "    return doubles   "
   ]
  },
  {
   "cell_type": "code",
   "execution_count": null,
   "metadata": {
    "collapsed": true
   },
   "outputs": [],
   "source": []
  }
 ],
 "metadata": {
  "kernelspec": {
   "display_name": "Python [Root]",
   "language": "python",
   "name": "Python [Root]"
  },
  "language_info": {
   "codemirror_mode": {
    "name": "ipython",
    "version": 3
   },
   "file_extension": ".py",
   "mimetype": "text/x-python",
   "name": "python",
   "nbconvert_exporter": "python",
   "pygments_lexer": "ipython3",
   "version": "3.5.2"
  }
 },
 "nbformat": 4,
 "nbformat_minor": 0
}
