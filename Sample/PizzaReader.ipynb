{
 "cells": [
  {
   "cell_type": "code",
   "execution_count": 1,
   "metadata": {
    "collapsed": false
   },
   "outputs": [],
   "source": [
    "import numpy as np\n"
   ]
  },
  {
   "cell_type": "code",
   "execution_count": 2,
   "metadata": {
    "collapsed": false
   },
   "outputs": [],
   "source": [
    "file = open(\"example.in\", \"r\") \n",
    "text = file.read()"
   ]
  },
  {
   "cell_type": "code",
   "execution_count": 3,
   "metadata": {
    "collapsed": false
   },
   "outputs": [],
   "source": [
    "header_id = text.index('\\n')\n",
    "# Get header\n",
    "header = text[0:header_id].split(' ')\n",
    "row =  int(header[0])\n",
    "col =  int(header[1])\n",
    "pmin = int(header[2])\n",
    "pmax = int(header[3])\n",
    "# Get body\n",
    "body = text[header_id:]\n",
    "body = body.replace('T','0 ').replace('M','1 ').replace('\\n','')\n",
    "body = np.fromstring(body, dtype=int, sep=' ')\n",
    "body = np.reshape(body, (row,col))"
   ]
  },
  {
   "cell_type": "code",
   "execution_count": 4,
   "metadata": {
    "collapsed": false
   },
   "outputs": [
    {
     "name": "stdout",
     "output_type": "stream",
     "text": [
      "row=3 col=5 pmin=1 pmax=6\n",
      "body:\n",
      " [[0 0 0 0 0]\n",
      " [0 1 1 1 0]\n",
      " [0 0 0 0 0]]\n"
     ]
    }
   ],
   "source": [
    "# Print resume\n",
    "print('row=' + str(row), 'col=' + str(col), 'pmin=' + str(pmin), 'pmax='+ str(pmax))\n",
    "print('body:\\n', body)"
   ]
  }
 ],
 "metadata": {
  "kernelspec": {
   "display_name": "Python [Root]",
   "language": "python",
   "name": "Python [Root]"
  },
  "language_info": {
   "codemirror_mode": {
    "name": "ipython",
    "version": 3
   },
   "file_extension": ".py",
   "mimetype": "text/x-python",
   "name": "python",
   "nbconvert_exporter": "python",
   "pygments_lexer": "ipython3",
   "version": "3.5.2"
  }
 },
 "nbformat": 4,
 "nbformat_minor": 0
}
